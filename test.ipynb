{
 "cells": [
  {
   "cell_type": "code",
   "id": "initial_id",
   "metadata": {
    "collapsed": true,
    "ExecuteTime": {
     "end_time": "2025-03-16T01:06:57.018420Z",
     "start_time": "2025-03-16T01:06:40.140884Z"
    }
   },
   "source": [
    "import torch\n",
    "import Dpsnmodel"
   ],
   "outputs": [],
   "execution_count": 1
  },
  {
   "metadata": {
    "ExecuteTime": {
     "end_time": "2025-03-16T01:55:52.217078Z",
     "start_time": "2025-03-16T01:50:02.917710Z"
    }
   },
   "cell_type": "code",
   "source": [
    " #load\n",
    "device = torch.device(\"cuda:0\" if torch.cuda.is_available() else \"cpu\")\n",
    "model = Dpsnmodel.Dpsn(20).to(device)\n",
    "model.load_state_dict(torch.load('model.pth'))\n",
    "\n",
    "# Example\n",
    "Dpsnmodel.test_on_image(model, 'data/train/frog', device)"
   ],
   "id": "151ca9033f4cc8ad",
   "outputs": [
    {
     "name": "stderr",
     "output_type": "stream",
     "text": [
      "C:\\Users\\ADMIN\\AppData\\Local\\Temp\\ipykernel_2320\\3493512108.py:4: FutureWarning: You are using `torch.load` with `weights_only=False` (the current default value), which uses the default pickle module implicitly. It is possible to construct malicious pickle data which will execute arbitrary code during unpickling (See https://github.com/pytorch/pytorch/blob/main/SECURITY.md#untrusted-models for more details). In a future release, the default value for `weights_only` will be flipped to `True`. This limits the functions that could be executed during unpickling. Arbitrary objects will no longer be allowed to be loaded via this mode unless they are explicitly allowlisted by the user via `torch.serialization.add_safe_globals`. We recommend you start setting `weights_only=True` for any use case where you don't have full control of the loaded file. Please open an issue on GitHub for any issues related to this experimental feature.\n",
      "  model.load_state_dict(torch.load('model.pth'))\n"
     ]
    },
    {
     "name": "stdout",
     "output_type": "stream",
     "text": [
      "torch.Size([20, 1, 590, 690])\n"
     ]
    }
   ],
   "execution_count": 5
  },
  {
   "metadata": {
    "ExecuteTime": {
     "end_time": "2025-03-15T14:21:36.929321Z",
     "start_time": "2025-03-15T14:21:36.900646Z"
    }
   },
   "cell_type": "code",
   "source": [
    "import cv2\n",
    "img = cv2.imread('result/scholar.png')\n",
    "img"
   ],
   "id": "44d5e2535406e1df",
   "outputs": [
    {
     "data": {
      "text/plain": [
       "array([[[251,  27,   3],\n",
       "        [251,  27,   2],\n",
       "        [251,  27,   2],\n",
       "        ...,\n",
       "        [255,  29,   4],\n",
       "        [255,  29,   4],\n",
       "        [255,  29,   4]],\n",
       "\n",
       "       [[251,  27,   3],\n",
       "        [252,  27,   3],\n",
       "        [251,  27,   3],\n",
       "        ...,\n",
       "        [255,  29,   4],\n",
       "        [254,  29,   4],\n",
       "        [255,  29,   4]],\n",
       "\n",
       "       [[251,  27,   2],\n",
       "        [252,  27,   3],\n",
       "        [251,  27,   3],\n",
       "        ...,\n",
       "        [255,  29,   4],\n",
       "        [255,  29,   4],\n",
       "        [255,  29,   4]],\n",
       "\n",
       "       ...,\n",
       "\n",
       "       [[248,  25,   1],\n",
       "        [248,  25,   1],\n",
       "        [248,  25,   1],\n",
       "        ...,\n",
       "        [248,  25,   1],\n",
       "        [247,  25,   1],\n",
       "        [247,  25,   1]],\n",
       "\n",
       "       [[250,  26,   2],\n",
       "        [249,  26,   2],\n",
       "        [249,  26,   1],\n",
       "        ...,\n",
       "        [247,  25,   1],\n",
       "        [248,  25,   1],\n",
       "        [247,  25,   1]],\n",
       "\n",
       "       [[248,  25,   1],\n",
       "        [254,  29,   4],\n",
       "        [248,  25,   1],\n",
       "        ...,\n",
       "        [248,  25,   1],\n",
       "        [248,  25,   1],\n",
       "        [247,  25,   1]]], dtype=uint8)"
      ]
     },
     "execution_count": 3,
     "metadata": {},
     "output_type": "execute_result"
    }
   ],
   "execution_count": 3
  }
 ],
 "metadata": {
  "kernelspec": {
   "display_name": "Python 3",
   "language": "python",
   "name": "python3"
  },
  "language_info": {
   "codemirror_mode": {
    "name": "ipython",
    "version": 2
   },
   "file_extension": ".py",
   "mimetype": "text/x-python",
   "name": "python",
   "nbconvert_exporter": "python",
   "pygments_lexer": "ipython2",
   "version": "2.7.6"
  }
 },
 "nbformat": 4,
 "nbformat_minor": 5
}
