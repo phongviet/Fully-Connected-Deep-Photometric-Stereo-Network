{
 "cells": [
  {
   "cell_type": "code",
   "id": "initial_id",
   "metadata": {
    "collapsed": true,
    "ExecuteTime": {
     "end_time": "2025-03-27T15:30:19.731565Z",
     "start_time": "2025-03-27T15:30:19.725915Z"
    }
   },
   "source": [
    "import torch\n",
    "import Dpsnmodel\n",
    "import PostProcessing\n",
    "import cv2"
   ],
   "outputs": [],
   "execution_count": 2
  },
  {
   "metadata": {
    "ExecuteTime": {
     "end_time": "2025-03-27T15:44:36.764523Z",
     "start_time": "2025-03-27T15:44:36.403102Z"
    }
   },
   "cell_type": "code",
   "source": [
    " #load\n",
    "device = torch.device(\"cuda:0\" if torch.cuda.is_available() else \"cpu\")\n",
    "model = Dpsnmodel.Dpsn(20).to(device)\n",
    "model.load_state_dict(torch.load('model.pth'))\n",
    "\n",
    "in_path = 'data/test/turtle'\n",
    "out_path = 'result/turtle.png'"
   ],
   "id": "425f0088973ccf4f",
   "outputs": [
    {
     "name": "stderr",
     "output_type": "stream",
     "text": [
      "C:\\Users\\ADMIN\\AppData\\Local\\Temp\\ipykernel_41272\\1387014854.py:4: FutureWarning: You are using `torch.load` with `weights_only=False` (the current default value), which uses the default pickle module implicitly. It is possible to construct malicious pickle data which will execute arbitrary code during unpickling (See https://github.com/pytorch/pytorch/blob/main/SECURITY.md#untrusted-models for more details). In a future release, the default value for `weights_only` will be flipped to `True`. This limits the functions that could be executed during unpickling. Arbitrary objects will no longer be allowed to be loaded via this mode unless they are explicitly allowlisted by the user via `torch.serialization.add_safe_globals`. We recommend you start setting `weights_only=True` for any use case where you don't have full control of the loaded file. Please open an issue on GitHub for any issues related to this experimental feature.\n",
      "  model.load_state_dict(torch.load('model.pth'))\n"
     ]
    }
   ],
   "execution_count": 7
  },
  {
   "metadata": {
    "ExecuteTime": {
     "end_time": "2025-03-27T15:50:26.764339Z",
     "start_time": "2025-03-27T15:44:39.180490Z"
    }
   },
   "cell_type": "code",
   "source": [
    "normal_map = Dpsnmodel.test_on_image(model, in_path, out_path, device)\n",
    "result = PostProcessing.masking(normal_map, in_path)\n",
    "cv2.imwrite(out_path, result)"
   ],
   "id": "a396c5b13a8badf8",
   "outputs": [
    {
     "name": "stdout",
     "output_type": "stream",
     "text": [
      "torch.Size([20, 1, 450, 850])\n"
     ]
    },
    {
     "data": {
      "text/plain": [
       "True"
      ]
     },
     "execution_count": 8,
     "metadata": {},
     "output_type": "execute_result"
    }
   ],
   "execution_count": 8
  },
  {
   "metadata": {
    "ExecuteTime": {
     "end_time": "2025-03-27T03:41:08.305819Z",
     "start_time": "2025-03-27T03:41:07.776808Z"
    }
   },
   "cell_type": "code",
   "source": "",
   "id": "44d5e2535406e1df",
   "outputs": [
    {
     "data": {
      "text/plain": [
       "True"
      ]
     },
     "execution_count": 5,
     "metadata": {},
     "output_type": "execute_result"
    }
   ],
   "execution_count": 5
  }
 ],
 "metadata": {
  "kernelspec": {
   "display_name": "Python 3",
   "language": "python",
   "name": "python3"
  },
  "language_info": {
   "codemirror_mode": {
    "name": "ipython",
    "version": 2
   },
   "file_extension": ".py",
   "mimetype": "text/x-python",
   "name": "python",
   "nbconvert_exporter": "python",
   "pygments_lexer": "ipython2",
   "version": "2.7.6"
  }
 },
 "nbformat": 4,
 "nbformat_minor": 5
}
